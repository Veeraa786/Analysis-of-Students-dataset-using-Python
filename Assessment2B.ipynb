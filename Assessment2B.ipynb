{
  "cells": [
    {
      "cell_type": "markdown",
      "metadata": {
        "id": "view-in-github",
        "colab_type": "text"
      },
      "source": [
        "<a href=\"https://colab.research.google.com/github/Veeraa786/Assessment2B/blob/main/Assessment2B.ipynb\" target=\"_parent\"><img src=\"https://colab.research.google.com/assets/colab-badge.svg\" alt=\"Open In Colab\"/></a>"
      ]
    },
    {
      "cell_type": "markdown",
      "metadata": {
        "id": "bn58_YlFOIcg"
      },
      "source": [
        "###### Assessment"
      ]
    },
    {
      "cell_type": "markdown",
      "metadata": {
        "id": "_UXY7DZvOIcu"
      },
      "source": [
        "###### I am going to provide two .csv files , you are supposed to work on them and have to provide solutions to the following problems"
      ]
    },
    {
      "cell_type": "markdown",
      "metadata": {
        "id": "PU4W8ckfOIcw"
      },
      "source": [
        "###### import necessary libraries"
      ]
    },
    {
      "cell_type": "code",
      "source": [
        "import pandas as pd\n",
        "import numpy as np\n",
        "import matplotlib.pyplot as plt"
      ],
      "metadata": {
        "id": "wKx6vgQiXYoS"
      },
      "execution_count": 1,
      "outputs": []
    },
    {
      "cell_type": "code",
      "execution_count": null,
      "metadata": {
        "id": "wYX4pthcOIcx"
      },
      "outputs": [],
      "source": []
    },
    {
      "cell_type": "markdown",
      "metadata": {
        "id": "DhNYRZdhOIcz"
      },
      "source": [
        "###### merge those two csv files (after getting as dataframes, get them as a single dataframe)"
      ]
    },
    {
      "cell_type": "code",
      "source": [
        "# merge those two csv files (after getting as dataframes, get them as a single dataframe)\n",
        "data1 = pd.read_csv(\"/college_1.csv\")\n",
        "data2 = pd.read_csv(\"/college_2.csv\")\n",
        "df = pd.concat([data1,data2])"
      ],
      "metadata": {
        "id": "dcRyFbAuXkoN"
      },
      "execution_count": 3,
      "outputs": []
    },
    {
      "cell_type": "markdown",
      "metadata": {
        "id": "CUaNNDE-OIc2"
      },
      "source": [
        "###### Take each csv file , split that csv file into multiple categories (example csv files are added in the repo) \n"
      ]
    },
    {
      "cell_type": "markdown",
      "metadata": {
        "id": "_9JFiYplOIc4"
      },
      "source": [
        "###### consider if the codekata score exceeds 15000 points(present week) then make a csv on those observations as Exceeded expectations.csv\n"
      ]
    },
    {
      "cell_type": "code",
      "source": [
        "# consider if the codekata score exceeds 15000 points(present week) then make a csv on those observations as Exceeded expectations.csv\n",
        "exceed = df[(df[\"CodeKata_Score\"]>15000)]\n",
        "exceed.to_csv(\"Exceed_Expectations.csv\",index = False)"
      ],
      "metadata": {
        "id": "vgk5mpMZbLTo"
      },
      "execution_count": 4,
      "outputs": []
    },
    {
      "cell_type": "markdown",
      "metadata": {
        "id": "88GqAFt7OIc6"
      },
      "source": [
        "###### if  10000<codekata score<15000   (Reached_expectations.csv)\n",
        "\n"
      ]
    },
    {
      "cell_type": "code",
      "source": [
        "# if 10000<codekata score<15000 (Reached_expectations.csv)\n",
        "reached = df[(df[\"CodeKata_Score\"].between(10000,15000))]\n",
        "reached.to_csv(\"Reached_Expectations.csv\",index = False)"
      ],
      "metadata": {
        "id": "pNRHyAz_bZGE"
      },
      "execution_count": 5,
      "outputs": []
    },
    {
      "cell_type": "markdown",
      "metadata": {
        "id": "gQ9F42dCOIc7"
      },
      "source": [
        "###### if  7000<codekata score<10000   (Needs_Improvement.csv)\n"
      ]
    },
    {
      "cell_type": "code",
      "source": [
        "# if 7000<codekata score<10000 (Needs_Improvement.csv)\n",
        "needs = df[(df[\"CodeKata_Score\"].between(7000,10000))]\n",
        "needs.to_csv(\"Needs_Improvement.csv\",index=False)\n"
      ],
      "metadata": {
        "id": "NfAB-OAJbgJ2"
      },
      "execution_count": 6,
      "outputs": []
    },
    {
      "cell_type": "markdown",
      "metadata": {
        "id": "lWXRevjIOIc-"
      },
      "source": [
        "###### if  codekate score < 7000        (Unsatisfactory.csv)"
      ]
    },
    {
      "cell_type": "code",
      "execution_count": 7,
      "metadata": {
        "id": "LsGVx5KNOIc_"
      },
      "outputs": [],
      "source": [
        "# if codekate score < 7000 (Unsatisfactory.csv)\n",
        "unsatisfy = df[(df[\"CodeKata_Score\"]<7000)]\n",
        "unsatisfy.to_csv(\"Unsatisfactory.csv\",index = False)\n"
      ]
    },
    {
      "cell_type": "markdown",
      "metadata": {
        "id": "3cov8RuAOIdB"
      },
      "source": [
        "###### Average of previous week geekions vs this week geekions (i.e Previous Geekions vs CodeKata Score)"
      ]
    },
    {
      "cell_type": "code",
      "execution_count": 8,
      "metadata": {
        "id": "2OsArJNoOIdC"
      },
      "outputs": [],
      "source": [
        "# Average of previous week geekions vs this week geekions (i.e Previous Geekions vs CodeKata Score)\n",
        "df[\"Average\"] = (df[\"Previous_Geekions\"]+df[\"CodeKata_Score\"])/2\n"
      ]
    },
    {
      "cell_type": "markdown",
      "metadata": {
        "id": "dTwwSvEuOIdD"
      },
      "source": [
        "###### No of students participated "
      ]
    },
    {
      "cell_type": "code",
      "execution_count": 9,
      "metadata": {
        "id": "KMJb_llVOIdE"
      },
      "outputs": [],
      "source": [
        "# No of students participated\n",
        "no_of_students = df['Name'].count()"
      ]
    },
    {
      "cell_type": "markdown",
      "metadata": {
        "id": "YguiUdo2OIdE"
      },
      "source": [
        "###### #Average completion of python course or my_sql or python english or computational thinking"
      ]
    },
    {
      "cell_type": "code",
      "execution_count": 10,
      "metadata": {
        "id": "WjsEhFs3OIdF"
      },
      "outputs": [],
      "source": [
        "#Average completion of python course or my_sql or python english or computational thinking\n",
        "average_python = (df[\"python\"].sum())/no_of_students\n"
      ]
    },
    {
      "cell_type": "markdown",
      "metadata": {
        "id": "9VwH6_qGOIdG"
      },
      "source": [
        "###### rising star of the week (top 3 candidate who performed well in that particular week)"
      ]
    },
    {
      "cell_type": "code",
      "execution_count": 11,
      "metadata": {
        "id": "i7qhpY9pOIdH"
      },
      "outputs": [],
      "source": [
        "# rising star of the week (top 3 candidate who performed well in that particular week)\n",
        "rising_star = df.nlargest(3,[\"Rising\"])\n",
        "rising_star.to_csv('top_3_rising.csv',index=False)\n"
      ]
    },
    {
      "cell_type": "markdown",
      "metadata": {
        "id": "-ALIElSQOIdH"
      },
      "source": [
        "###### Shining stars of the week (top 3 candidates who has highest geekions)"
      ]
    },
    {
      "cell_type": "code",
      "execution_count": 12,
      "metadata": {
        "id": "eyvVgvgfOIdI"
      },
      "outputs": [],
      "source": [
        "# Shining stars of the week (top 3 candidates who has highest geekions)\n",
        "greek = df.nlargest(3,[\"Previous_Geekions\"])\n",
        "greek.to_csv('top_3_shing.csv',index=False)\n"
      ]
    },
    {
      "cell_type": "markdown",
      "metadata": {
        "id": "bguTA2iTOIdJ"
      },
      "source": [
        "###### Department wise codekata performence (pie chart)"
      ]
    },
    {
      "cell_type": "code",
      "execution_count": 13,
      "metadata": {
        "id": "phu5QX-HOIdJ",
        "outputId": "c709587c-6dce-491a-e371-9eccff215640",
        "colab": {
          "base_uri": "https://localhost:8080/",
          "height": 428
        }
      },
      "outputs": [
        {
          "output_type": "display_data",
          "data": {
            "text/plain": [
              "<Figure size 720x504 with 1 Axes>"
            ],
            "image/png": "[encoded data removed]"
          },
          "metadata": {}
        },
        {
          "output_type": "stream",
          "name": "stdout",
          "text": [
            "\n"
          ]
        }
      ],
      "source": [
        "# Department wise codekata performence (pie chart)\n",
        "comp = df[(df[\"Department\"] == 'Computer Science and Engineering')]\n",
        "computer_total = comp[\"CodeKata_Score\"].sum()\n",
        "elec = df[(df[\"Department\"] == 'Electronics and Communication Engineering')]\n",
        "ece_total = elec[\"CodeKata_Score\"].sum()\n",
        "elec_eng = df[(df[\"Department\"] == 'Electronics and Electrical Engineering')]\n",
        "eee_total = elec_eng[\"CodeKata_Score\"].sum()\n",
        "data = [computer_total,ece_total,eee_total]\n",
        "fig = plt.figure(figsize=(10,7))\n",
        "plt.pie(data,labels = ['Computer Science and Engineering','Electronics and Communication Engineering','Electronics and Electrical Engineering'])\n",
        "plt.show()\n",
        "print()\n"
      ]
    },
    {
      "cell_type": "markdown",
      "metadata": {
        "id": "62mxNvwAOIdK"
      },
      "source": [
        "###### Department wise toppers (horizantal bar graph or any visual representations of your choice)"
      ]
    },
    {
      "cell_type": "code",
      "execution_count": null,
      "metadata": {
        "id": "bn9KwoWWOIdL"
      },
      "outputs": [],
      "source": []
    },
    {
      "cell_type": "code",
      "execution_count": null,
      "metadata": {
        "id": "-pxUnYjrOIdL"
      },
      "outputs": [],
      "source": []
    },
    {
      "cell_type": "code",
      "execution_count": null,
      "metadata": {
        "id": "L2okYhlmOIdM"
      },
      "outputs": [],
      "source": []
    },
    {
      "cell_type": "code",
      "execution_count": null,
      "metadata": {
        "id": "0bcizu4VOIdM"
      },
      "outputs": [],
      "source": []
    }
  ],
  "metadata": {
    "kernelspec": {
      "display_name": "Python 3",
      "language": "python",
      "name": "python3"
    },
    "language_info": {
      "codemirror_mode": {
        "name": "ipython",
        "version": 3
      },
      "file_extension": ".py",
      "mimetype": "text/x-python",
      "name": "python",
      "nbconvert_exporter": "python",
      "pygments_lexer": "ipython3",
      "version": "3.8.3"
    },
    "colab": {
      "name": "Assessment2B.ipynb",
      "provenance": [],
      "include_colab_link": true
    }
  },
  "nbformat": 4,
  "nbformat_minor": 0
}